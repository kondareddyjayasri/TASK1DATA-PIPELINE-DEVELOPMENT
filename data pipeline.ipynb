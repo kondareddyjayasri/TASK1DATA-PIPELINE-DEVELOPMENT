{
 "cells": [
  {
   "cell_type": "code",
   "execution_count": 1,
   "id": "d57017f6-ea2d-46c9-b25f-5a4692199e9e",
   "metadata": {},
   "outputs": [
    {
     "name": "stdout",
     "output_type": "stream",
     "text": [
      "Raw Data:\n",
      "      Name   Age Gender   Income         City\n",
      "0    Alice  25.0      F  50000.0     New York\n",
      "1      Bob   NaN      M  60000.0  Los Angeles\n",
      "2  Charlie  35.0      M      NaN     New York\n",
      "3    David  45.0      M  80000.0      Chicago\n",
      "4      NaN  29.0      F  72000.0      Chicago\n",
      "\n",
      " Transformed Data:\n",
      "        Age    Income  Gender_F  Gender_M  City_Chicago  City_Los Angeles  \\\n",
      "0 -1.261511 -1.515535       1.0       0.0           0.0               0.0   \n",
      "1  0.000000 -0.537770       0.0       1.0           0.0               1.0   \n",
      "2  0.222620  0.000000       0.0       1.0           0.0               0.0   \n",
      "3  1.706750  1.417758       0.0       1.0           1.0               0.0   \n",
      "4 -0.667859  0.635547       1.0       0.0           1.0               0.0   \n",
      "\n",
      "   City_New York  \n",
      "0            1.0  \n",
      "1            0.0  \n",
      "2            1.0  \n",
      "3            0.0  \n",
      "4            0.0  \n",
      "\n",
      " Processed data saved to 'processed_data.csv'\n"
     ]
    }
   ],
   "source": [
    "import pandas as pd\n",
    "import numpy as np\n",
    "from sklearn.preprocessing import StandardScaler, OneHotEncoder\n",
    "from sklearn.compose import ColumnTransformer\n",
    "from sklearn.pipeline import Pipeline\n",
    "from sklearn.impute import SimpleImputer\n",
    "data = {\n",
    "    'Name': ['Alice', 'Bob', 'Charlie', 'David', np.nan],\n",
    "    'Age': [25, np.nan, 35, 45, 29],\n",
    "    'Gender': ['F', 'M', 'M', 'M', 'F'],\n",
    "    'Income': [50000, 60000, np.nan, 80000, 72000],\n",
    "    'City': ['New York', 'Los Angeles', 'New York', 'Chicago', 'Chicago']\n",
    "}\n",
    "df_raw = pd.DataFrame(data)\n",
    "print(\" *Raw Data *:\")\n",
    "print(df_raw)\n",
    "num_cols = ['Age', 'Income']\n",
    "cat_cols = ['Gender', 'City']\n",
    "num_pipeline = Pipeline(steps=[\n",
    "    ('imputer', SimpleImputer(strategy='mean')),\n",
    "    ('scaler', StandardScaler())\n",
    "])\n",
    "cat_pipeline = Pipeline(steps=[\n",
    "    ('imputer', SimpleImputer(strategy='most_frequent')),\n",
    "    ('encoder', OneHotEncoder(handle_unknown='ignore'))\n",
    "])\n",
    "preprocessor = ColumnTransformer(transformers=[\n",
    "    ('num', num_pipeline, num_cols),\n",
    "    ('cat', cat_pipeline, cat_cols)\n",
    "])\n",
    "df_features = df_raw.drop(columns=['Name'])\n",
    "processed_data = preprocessor.fit_transform(df_features)\n",
    "cat_features = preprocessor.named_transformers_['cat']['encoder'].get_feature_names_out(cat_cols)\n",
    "final_columns = num_cols + list(cat_features)\n",
    "df_processed = pd.DataFrame(processed_data, columns=final_columns)\n",
    "\n",
    "print(\"\\n *Transformed Data *:\")\n",
    "print(df_processed)\n",
    "df_processed.to_csv(\"processed_data.csv\", index=False)\n",
    "print(\"\\n * Processed data saved to 'processed_data.csv *'\")\n"
   ]
  },
  {
   "cell_type": "code",
   "execution_count": null,
   "id": "aac84a6c-e95f-4de1-9f02-a1d851642531",
   "metadata": {},
   "outputs": [],
   "source": []
  },
  {
   "cell_type": "code",
   "execution_count": null,
   "id": "2d03675a-7ca6-4952-9ef7-505864c1e277",
   "metadata": {},
   "outputs": [],
   "source": []
  }
 ],
 "metadata": {
  "kernelspec": {
   "display_name": "Python 3 (ipykernel)",
   "language": "python",
   "name": "python3"
  },
  "language_info": {
   "codemirror_mode": {
    "name": "ipython",
    "version": 3
   },
   "file_extension": ".py",
   "mimetype": "text/x-python",
   "name": "python",
   "nbconvert_exporter": "python",
   "pygments_lexer": "ipython3",
   "version": "3.12.2"
  }
 },
 "nbformat": 4,
 "nbformat_minor": 5
}
